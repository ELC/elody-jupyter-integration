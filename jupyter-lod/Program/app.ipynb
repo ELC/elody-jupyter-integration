{
 "cells": [
  {
   "cell_type": "code",
   "execution_count": null,
   "metadata": {},
   "outputs": [],
   "source": [
    "from lod import lod\n",
    "import json\n",
    "\n",
    "object_manager = lod.get_object_manager()\n",
    "\n",
    "arguments = None\n",
    "\n",
    "with lod.manager(suppress_exceptions_after_logging_them=False, redirect_stdout_to_log=True) as lod_manager:\n",
    "    lod.start_message().\\\n",
    "        add_text(\"Executing inside Jupyter\").\\\n",
    "        finish()\n",
    "    \n",
    "    arguments = lod.get_program_arguments()\n",
    "    \n",
    "    with open(arguments['user_parameters_file'].file, 'r') as infile:\n",
    "        data = json.load(infile)\n",
    "    \n",
    "    lod.start_message().\\\n",
    "        add_text(\"Parameters successfully read\").\\\n",
    "        finish()"
   ]
  },
  {
   "cell_type": "code",
   "execution_count": null,
   "metadata": {},
   "outputs": [],
   "source": [
    "import numpy as np"
   ]
  },
  {
   "cell_type": "code",
   "execution_count": null,
   "metadata": {},
   "outputs": [],
   "source": [
    "timeseries_as_text = data['timeseries']\n",
    "c = data['c']"
   ]
  },
  {
   "cell_type": "code",
   "execution_count": null,
   "metadata": {},
   "outputs": [],
   "source": [
    "timeseries = [float(a) for a in timeseries_as_text.split(',')]"
   ]
  },
  {
   "cell_type": "code",
   "execution_count": null,
   "metadata": {},
   "outputs": [],
   "source": [
    "xs = list(range(len(timeseries)))\n",
    "ys = timeseries\n",
    "res = np.polyfit(xs, ys, 1)\n",
    "\n",
    "# Predict c more values\n",
    "prediction = ys + [a * res[0] + res[1] for a in range(len(ys), len(ys) + c)]"
   ]
  },
  {
   "cell_type": "code",
   "execution_count": null,
   "metadata": {},
   "outputs": [],
   "source": [
    "lod.start_message().\\\n",
    "            add_text(\"Showing Messages outside context manager\").\\\n",
    "            finish()"
   ]
  },
  {
   "cell_type": "code",
   "execution_count": null,
   "metadata": {},
   "outputs": [],
   "source": [
    "with lod_manager:\n",
    "    lod.start_message().\\\n",
    "            add_text(\"Showing Messages inside context manager\").\\\n",
    "            finish()\n",
    "    \n",
    "    lod.start_message().\\\n",
    "            add_text(f\"Predictions {prediction}\").\\\n",
    "            finish()\n",
    "\n",
    "    lod.tag('!set_status_message', comment=\"This Scenario is finished.\")"
   ]
  }
 ],
 "metadata": {
  "kernelspec": {
   "display_name": "Python 3",
   "language": "python",
   "name": "python3"
  },
  "language_info": {
   "codemirror_mode": {
    "name": "ipython",
    "version": 3
   },
   "file_extension": ".py",
   "mimetype": "text/x-python",
   "name": "python",
   "nbconvert_exporter": "python",
   "pygments_lexer": "ipython3",
   "version": "3.7.3"
  }
 },
 "nbformat": 4,
 "nbformat_minor": 2
}
