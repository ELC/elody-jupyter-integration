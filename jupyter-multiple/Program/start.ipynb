{
 "cells": [
  {
   "cell_type": "code",
   "execution_count": null,
   "metadata": {},
   "outputs": [],
   "source": [
    "__depends__ = []\n",
    "__dest__ = \"./parameters.json\""
   ]
  },
  {
   "cell_type": "code",
   "execution_count": null,
   "metadata": {},
   "outputs": [],
   "source": [
    "from lod import lod\n",
    "object_manager = lod.get_object_manager()\n",
    "\n",
    "with lod.manager(suppress_exceptions_after_logging_them=False, redirect_stdout_to_log=True) as lod_manager:\n",
    "    lod.start_message().\\\n",
    "        add_text(\"Initial Notebook Started\").\\\n",
    "        finish()"
   ]
  },
  {
   "cell_type": "code",
   "execution_count": null,
   "metadata": {},
   "outputs": [],
   "source": [
    "with lod_manager:\n",
    "    import json\n",
    "\n",
    "    arguments = None\n",
    "\n",
    "    lod.start_message().\\\n",
    "        add_text(\"Starting initial Notebook\").\\\n",
    "        finish()\n",
    "        \n",
    "    arguments = lod.get_program_arguments()\n",
    "\n",
    "    with open(arguments['user_parameters_file'].file, 'r') as infile:\n",
    "        with open('parameters.json', 'w') as outfile:\n",
    "            json.dump(json.load(infile), outfile)\n",
    "    \n",
    "    lod.start_message().\\\n",
    "        add_text(\"Parameters successfully stored\").\\\n",
    "        finish()"
   ]
  }
 ],
 "metadata": {
  "kernelspec": {
   "display_name": "Python 3",
   "language": "python",
   "name": "python3"
  },
  "language_info": {
   "codemirror_mode": {
    "name": "ipython",
    "version": 3
   },
   "file_extension": ".py",
   "mimetype": "text/x-python",
   "name": "python",
   "nbconvert_exporter": "python",
   "pygments_lexer": "ipython3",
   "version": "3.7.3"
  }
 },
 "nbformat": 4,
 "nbformat_minor": 2
}
