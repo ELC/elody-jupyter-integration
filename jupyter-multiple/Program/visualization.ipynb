{
 "cells": [
  {
   "cell_type": "code",
   "execution_count": null,
   "metadata": {},
   "outputs": [],
   "source": [
    "__depends__ = [\"./parameters.json\", \"./prediction.json\"]\n",
    "__dest__ = \"plot1.svg\""
   ]
  },
  {
   "cell_type": "code",
   "execution_count": null,
   "metadata": {},
   "outputs": [],
   "source": [
    "from lod import lod\n",
    "object_manager = lod.get_object_manager()\n",
    "\n",
    "with lod.manager(suppress_exceptions_after_logging_them=False, redirect_stdout_to_log=True) as lod_manager:\n",
    "    lod.start_message().\\\n",
    "        add_text(\"Visualization Notebook Started\").\\\n",
    "        finish()"
   ]
  },
  {
   "cell_type": "code",
   "execution_count": null,
   "metadata": {},
   "outputs": [],
   "source": [
    "with lod_manager:\n",
    "    import json\n",
    "    \n",
    "    with open('parameters.json', 'r') as infile:\n",
    "        data = json.load(infile)\n",
    "    \n",
    "    with open('prediction.json', 'r') as infile:\n",
    "        prediction = json.load(infile)\n",
    "    \n",
    "    c = data['c']\n",
    "    timeseries_as_text = data['timeseries']\n",
    "    timeseries = [float(a) for a in timeseries_as_text.split(',')]\n",
    "    xs = list(range(len(timeseries)))\n",
    "    ys = timeseries    "
   ]
  },
  {
   "cell_type": "code",
   "execution_count": null,
   "metadata": {},
   "outputs": [],
   "source": [
    "with lod_manager:\n",
    "    import numpy as np    \n",
    "    import matplotlib.pyplot as plt\n",
    "\n",
    "    plt.style.use('bmh')"
   ]
  },
  {
   "cell_type": "code",
   "execution_count": null,
   "metadata": {},
   "outputs": [],
   "source": [
    "with lod_manager:\n",
    "    fig = plt.figure()\n",
    "    plt.plot(prediction)\n",
    "    plt.scatter(xs, ys, label=\"Given\")\n",
    "    plt.scatter(np.arange(len(xs), len(xs)+c), prediction[len(xs):], label=\"Predicted\")\n",
    "    plt.legend()\n",
    "    plt.tight_layout()\n",
    "\n",
    "    img_file = \"plot1.svg\"\n",
    "\n",
    "    plt.savefig(img_file, format=\"svg\")\n",
    "    plt.close(fig)"
   ]
  },
  {
   "cell_type": "code",
   "execution_count": null,
   "metadata": {},
   "outputs": [],
   "source": [
    "with lod_manager:\n",
    "    lod.start_message().\\\n",
    "            add_text(f\"Predictions {prediction}\").\\\n",
    "            finish()\n",
    "\n",
    "    with open(img_file, 'r') as infile:\n",
    "        img_data = infile.read()\n",
    "    \n",
    "    lod.start_message().\\\n",
    "        add_text(\"Ploting matplotlib graph as SVG\").\\\n",
    "        add_html(img_data, external_domains=[]).\\\n",
    "        finish()"
   ]
  },
  {
   "cell_type": "code",
   "execution_count": null,
   "metadata": {},
   "outputs": [],
   "source": [
    "with lod_manager:\n",
    "    lod.tag('!set_status_message', comment=\"This Scenario is finished.\")"
   ]
  }
 ],
 "metadata": {
  "kernelspec": {
   "display_name": "Python 3",
   "language": "python",
   "name": "python3"
  },
  "language_info": {
   "codemirror_mode": {
    "name": "ipython",
    "version": 3
   },
   "file_extension": ".py",
   "mimetype": "text/x-python",
   "name": "python",
   "nbconvert_exporter": "python",
   "pygments_lexer": "ipython3",
   "version": "3.7.3"
  }
 },
 "nbformat": 4,
 "nbformat_minor": 2
}
